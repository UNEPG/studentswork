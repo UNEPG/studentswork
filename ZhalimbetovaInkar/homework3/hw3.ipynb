{
 "cells": [
  {
   "cell_type": "code",
   "execution_count": 1,
   "metadata": {},
   "outputs": [
    {
     "name": "stdout",
     "output_type": "stream",
     "text": [
      "222.ipynb  inkar             shared           Untitled4.ipynb  Untitled8.ipynb\n",
      "Donut      Inkar.ipynb       Untitled1.ipynb  Untitled5.ipynb  Untitled9.ipynb\n",
      "donut.txt  inkar.txt         Untitled2.ipynb  Untitled6.ipynb  Untitled.ipynb\n",
      "homework1  octave-workspace  Untitled3.ipynb  Untitled7.ipynb\n"
     ]
    }
   ],
   "source": [
    "ls"
   ]
  },
  {
   "cell_type": "code",
   "execution_count": 2,
   "metadata": {},
   "outputs": [
    {
     "name": "stdout",
     "output_type": "stream",
     "text": [
      "/home/jupyter-inkar601\n"
     ]
    }
   ],
   "source": [
    "pwd"
   ]
  },
  {
   "cell_type": "code",
   "execution_count": 3,
   "metadata": {},
   "outputs": [],
   "source": [
    "cd /"
   ]
  },
  {
   "cell_type": "code",
   "execution_count": 4,
   "metadata": {},
   "outputs": [
    {
     "name": "stdout",
     "output_type": "stream",
     "text": [
      "/\n"
     ]
    }
   ],
   "source": [
    "pwd"
   ]
  },
  {
   "cell_type": "code",
   "execution_count": 5,
   "metadata": {},
   "outputs": [
    {
     "name": "stdout",
     "output_type": "stream",
     "text": [
      "bin    etc             lib         mkdir  root  srv       usr\n",
      "boot   home            lib64       mnt    run   swap.img  var\n",
      "cdrom  initrd.img      lost+found  opt    sbin  sys       vmlinuz\n",
      "dev    initrd.img.old  media       proc   snap  tmp       vmlinuz.old\n"
     ]
    }
   ],
   "source": [
    "ls"
   ]
  },
  {
   "cell_type": "code",
   "execution_count": 6,
   "metadata": {},
   "outputs": [],
   "source": [
    "cd home"
   ]
  },
  {
   "cell_type": "code",
   "execution_count": 7,
   "metadata": {},
   "outputs": [
    {
     "name": "stdout",
     "output_type": "stream",
     "text": [
      "azat                   jupyter-cubefiction    jupyter-official-nanakai\n",
      "jupyter-admin          jupyter-danenok        jupyter-orissim\n",
      "jupyter-aiana178       jupyter-darganius      jupyter-tsagynysh\n",
      "jupyter-aigerimunisat  jupyter-ekdana         jupyter-unisat\n",
      "jupyter-aizadait       jupyter-inkar601       jupyter-unisatkz\n",
      "jupyter-amayakof       jupyter-kkenzh         jupyter-yeldana\n",
      "jupyter-amirkhan       jupyter-nazymungarova  jupyter-zhandos\n",
      "jupyter-arayka         jupyter-nuray.serkali  jupyter-zhanelbaltabay\n",
      "jupyter-aruzhan149     jupyter-nurike         jupyter-zhannaspace\n",
      "jupyter-aselleon       jupyter-nurlaura\n",
      "jupyter-azat           jupyter-nurlaura2\n"
     ]
    }
   ],
   "source": [
    "ls"
   ]
  },
  {
   "cell_type": "code",
   "execution_count": 8,
   "metadata": {},
   "outputs": [],
   "source": [
    "cd jupyter-inkar601"
   ]
  },
  {
   "cell_type": "code",
   "execution_count": 9,
   "metadata": {},
   "outputs": [
    {
     "name": "stdout",
     "output_type": "stream",
     "text": [
      "222.ipynb  inkar             shared           Untitled4.ipynb  Untitled8.ipynb\n",
      "Donut      Inkar.ipynb       Untitled1.ipynb  Untitled5.ipynb  Untitled9.ipynb\n",
      "donut.txt  inkar.txt         Untitled2.ipynb  Untitled6.ipynb  Untitled.ipynb\n",
      "homework1  octave-workspace  Untitled3.ipynb  Untitled7.ipynb\n"
     ]
    }
   ],
   "source": [
    "ls"
   ]
  },
  {
   "cell_type": "code",
   "execution_count": 3,
   "metadata": {},
   "outputs": [],
   "source": [
    "cd homework3"
   ]
  },
  {
   "cell_type": "code",
   "execution_count": 4,
   "metadata": {},
   "outputs": [
    {
     "name": "stdout",
     "output_type": "stream",
     "text": [
      "333.ipynb  test1\n"
     ]
    }
   ],
   "source": [
    "ls"
   ]
  },
  {
   "cell_type": "code",
   "execution_count": 5,
   "metadata": {},
   "outputs": [],
   "source": [
    "mkdir test2"
   ]
  },
  {
   "cell_type": "code",
   "execution_count": 6,
   "metadata": {},
   "outputs": [],
   "source": [
    "mkdir test3"
   ]
  },
  {
   "cell_type": "code",
   "execution_count": 7,
   "metadata": {},
   "outputs": [],
   "source": [
    "mkdir test36"
   ]
  },
  {
   "cell_type": "code",
   "execution_count": 8,
   "metadata": {},
   "outputs": [],
   "source": [
    "cd test36"
   ]
  },
  {
   "cell_type": "code",
   "execution_count": 10,
   "metadata": {},
   "outputs": [],
   "source": [
    "touch 11.txt"
   ]
  },
  {
   "cell_type": "code",
   "execution_count": 11,
   "metadata": {},
   "outputs": [],
   "source": [
    "touch 2.txt"
   ]
  },
  {
   "cell_type": "code",
   "execution_count": 12,
   "metadata": {},
   "outputs": [],
   "source": [
    "touch 1.mp3"
   ]
  },
  {
   "cell_type": "code",
   "execution_count": 13,
   "metadata": {},
   "outputs": [],
   "source": [
    "touch 111.mp3"
   ]
  },
  {
   "cell_type": "code",
   "execution_count": 14,
   "metadata": {},
   "outputs": [],
   "source": [
    "touch 4.png"
   ]
  },
  {
   "cell_type": "code",
   "execution_count": 15,
   "metadata": {},
   "outputs": [
    {
     "name": "stdout",
     "output_type": "stream",
     "text": [
      "111.mp3  11.txt  1.mp3  2.txt  4.png\n"
     ]
    }
   ],
   "source": [
    "ls"
   ]
  },
  {
   "cell_type": "code",
   "execution_count": 26,
   "metadata": {},
   "outputs": [],
   "source": [
    "touch a.png"
   ]
  },
  {
   "cell_type": "code",
   "execution_count": 27,
   "metadata": {},
   "outputs": [],
   "source": [
    "touch a.txt"
   ]
  },
  {
   "cell_type": "code",
   "execution_count": 28,
   "metadata": {},
   "outputs": [],
   "source": [
    "touch b.mp3"
   ]
  },
  {
   "cell_type": "code",
   "execution_count": 29,
   "metadata": {},
   "outputs": [],
   "source": [
    "touch c.txt"
   ]
  },
  {
   "cell_type": "code",
   "execution_count": 30,
   "metadata": {},
   "outputs": [
    {
     "name": "stdout",
     "output_type": "stream",
     "text": [
      "111.mp3  11.txt  1.mp3  2.txt  4.png  a.png  a.txt  b.mp3  c.txt\n"
     ]
    }
   ],
   "source": [
    "ls"
   ]
  },
  {
   "cell_type": "code",
   "execution_count": 31,
   "metadata": {},
   "outputs": [
    {
     "name": "stdout",
     "output_type": "stream",
     "text": [
      "/home/jupyter-inkar601/homework3/test36\n"
     ]
    }
   ],
   "source": [
    "pwd"
   ]
  },
  {
   "cell_type": "code",
   "execution_count": 32,
   "metadata": {},
   "outputs": [
    {
     "name": "stdout",
     "output_type": "stream",
     "text": [
      "11.txt  2.txt  a.txt  c.txt\n"
     ]
    }
   ],
   "source": [
    "ls *.txt"
   ]
  },
  {
   "cell_type": "code",
   "execution_count": 33,
   "metadata": {},
   "outputs": [
    {
     "name": "stdout",
     "output_type": "stream",
     "text": [
      "111.mp3  1.mp3  b.mp3\n"
     ]
    }
   ],
   "source": [
    "ls *.mp3"
   ]
  },
  {
   "cell_type": "code",
   "execution_count": 34,
   "metadata": {},
   "outputs": [
    {
     "name": "stdout",
     "output_type": "stream",
     "text": [
      "111.mp3  1.mp3\n"
     ]
    }
   ],
   "source": [
    "ls 1*.mp3"
   ]
  },
  {
   "cell_type": "code",
   "execution_count": 35,
   "metadata": {},
   "outputs": [
    {
     "name": "stdout",
     "output_type": "stream",
     "text": [
      "4.png  a.png\n"
     ]
    }
   ],
   "source": [
    "ls *.png"
   ]
  },
  {
   "cell_type": "code",
   "execution_count": 36,
   "metadata": {},
   "outputs": [
    {
     "name": "stdout",
     "output_type": "stream",
     "text": [
      "a.txt  c.txt\n"
     ]
    }
   ],
   "source": [
    "ls *[a-z].txt"
   ]
  },
  {
   "cell_type": "code",
   "execution_count": 37,
   "metadata": {},
   "outputs": [
    {
     "name": "stdout",
     "output_type": "stream",
     "text": [
      "total 8\n",
      "drwxr-xr-x 2 jupyter-inkar601 jupyter-inkar601 4096 Apr  4 11:00 .\n",
      "drwxr-xr-x 7 jupyter-inkar601 jupyter-inkar601 4096 Apr  4 11:01 ..\n",
      "-rw-r--r-- 1 jupyter-inkar601 jupyter-inkar601    0 Apr  4 10:51 111.mp3\n",
      "-rw-r--r-- 1 jupyter-inkar601 jupyter-inkar601    0 Apr  4 10:49 11.txt\n",
      "-rw-r--r-- 1 jupyter-inkar601 jupyter-inkar601    0 Apr  4 10:51 1.mp3\n",
      "-rw-r--r-- 1 jupyter-inkar601 jupyter-inkar601    0 Apr  4 10:50 2.txt\n",
      "-rw-r--r-- 1 jupyter-inkar601 jupyter-inkar601    0 Apr  4 10:52 4.png\n",
      "-rw-r--r-- 1 jupyter-inkar601 jupyter-inkar601    0 Apr  4 10:59 a.png\n",
      "-rw-r--r-- 1 jupyter-inkar601 jupyter-inkar601    0 Apr  4 10:59 a.txt\n",
      "-rw-r--r-- 1 jupyter-inkar601 jupyter-inkar601    0 Apr  4 10:59 b.mp3\n",
      "-rw-r--r-- 1 jupyter-inkar601 jupyter-inkar601    0 Apr  4 11:00 c.txt\n"
     ]
    }
   ],
   "source": [
    "ls -al"
   ]
  },
  {
   "cell_type": "code",
   "execution_count": 38,
   "metadata": {},
   "outputs": [
    {
     "name": "stdout",
     "output_type": "stream",
     "text": [
      "total 0\n",
      "-rw-r--r-- 1 jupyter-inkar601 jupyter-inkar601 0 Apr  4 10:51 111.mp3\n",
      "-rw-r--r-- 1 jupyter-inkar601 jupyter-inkar601 0 Apr  4 10:49 11.txt\n",
      "-rw-r--r-- 1 jupyter-inkar601 jupyter-inkar601 0 Apr  4 10:51 1.mp3\n",
      "-rw-r--r-- 1 jupyter-inkar601 jupyter-inkar601 0 Apr  4 10:50 2.txt\n",
      "-rw-r--r-- 1 jupyter-inkar601 jupyter-inkar601 0 Apr  4 10:52 4.png\n",
      "-rw-r--r-- 1 jupyter-inkar601 jupyter-inkar601 0 Apr  4 10:59 a.png\n",
      "-rw-r--r-- 1 jupyter-inkar601 jupyter-inkar601 0 Apr  4 10:59 a.txt\n",
      "-rw-r--r-- 1 jupyter-inkar601 jupyter-inkar601 0 Apr  4 10:59 b.mp3\n",
      "-rw-r--r-- 1 jupyter-inkar601 jupyter-inkar601 0 Apr  4 11:00 c.txt\n"
     ]
    }
   ],
   "source": [
    "ls -l"
   ]
  },
  {
   "cell_type": "code",
   "execution_count": 39,
   "metadata": {},
   "outputs": [],
   "source": [
    "touch test36"
   ]
  },
  {
   "cell_type": "code",
   "execution_count": 40,
   "metadata": {},
   "outputs": [
    {
     "name": "stdout",
     "output_type": "stream",
     "text": [
      "111.mp3  11.txt  1.mp3  2.txt  4.png  a.png  a.txt  b.mp3  c.txt  test36\n"
     ]
    }
   ],
   "source": [
    "ls"
   ]
  },
  {
   "cell_type": "code",
   "execution_count": 41,
   "metadata": {},
   "outputs": [
    {
     "name": "stdout",
     "output_type": "stream",
     "text": [
      "-rw-r--r-- 1 jupyter-inkar601 jupyter-inkar601 0 Apr  4 11:06 test36\n"
     ]
    }
   ],
   "source": [
    "ls -l test36"
   ]
  },
  {
   "cell_type": "code",
   "execution_count": 42,
   "metadata": {},
   "outputs": [],
   "source": [
    "chmod u-w test36"
   ]
  },
  {
   "cell_type": "code",
   "execution_count": 43,
   "metadata": {},
   "outputs": [
    {
     "name": "stdout",
     "output_type": "stream",
     "text": [
      "-r--r--r-- 1 jupyter-inkar601 jupyter-inkar601 0 Apr  4 11:06 test36\n"
     ]
    }
   ],
   "source": [
    "ls -l test36"
   ]
  },
  {
   "cell_type": "code",
   "execution_count": 44,
   "metadata": {},
   "outputs": [],
   "source": [
    "chmod u+x test36"
   ]
  },
  {
   "cell_type": "code",
   "execution_count": 45,
   "metadata": {},
   "outputs": [
    {
     "name": "stdout",
     "output_type": "stream",
     "text": [
      "-r-xr--r-- 1 jupyter-inkar601 jupyter-inkar601 0 Apr  4 11:06 test36\n"
     ]
    }
   ],
   "source": [
    "ls -l test36"
   ]
  },
  {
   "cell_type": "code",
   "execution_count": 46,
   "metadata": {},
   "outputs": [],
   "source": [
    "chmod u+w test36"
   ]
  },
  {
   "cell_type": "code",
   "execution_count": 47,
   "metadata": {},
   "outputs": [
    {
     "name": "stdout",
     "output_type": "stream",
     "text": [
      "-rwxr--r-- 1 jupyter-inkar601 jupyter-inkar601 0 Apr  4 11:06 test36\n"
     ]
    }
   ],
   "source": [
    "ls -l test36"
   ]
  },
  {
   "cell_type": "code",
   "execution_count": 49,
   "metadata": {},
   "outputs": [],
   "source": [
    "chmod o+x test36"
   ]
  },
  {
   "cell_type": "code",
   "execution_count": 51,
   "metadata": {},
   "outputs": [
    {
     "name": "stdout",
     "output_type": "stream",
     "text": [
      "-rwxr--r-x 1 jupyter-inkar601 jupyter-inkar601 0 Apr  4 11:06 test36\n"
     ]
    }
   ],
   "source": [
    "ls -l test36"
   ]
  },
  {
   "cell_type": "code",
   "execution_count": 52,
   "metadata": {},
   "outputs": [
    {
     "name": "stdout",
     "output_type": "stream",
     "text": [
      "CHMOD(1)                         User Commands                        CHMOD(1)\n",
      "\n",
      "NAME\n",
      "       chmod - change file mode bits\n",
      "\n",
      "SYNOPSIS\n",
      "       chmod [OPTION]... MODE[,MODE]... FILE...\n",
      "       chmod [OPTION]... OCTAL-MODE FILE...\n",
      "       chmod [OPTION]... --reference=RFILE FILE...\n",
      "\n",
      "DESCRIPTION\n",
      "       This manual page documents the GNU version of chmod.  chmod changes the\n",
      "       file mode bits of each given file  according  to  mode,  which  can  be\n",
      "       either a symbolic representation of changes to make, or an octal number\n",
      "       representing the bit pattern for the new mode bits.\n",
      "\n",
      "       The format of a symbolic mode is  [ugoa...][[-+=][perms...]...],  where\n",
      "       perms  is  either zero or more letters from the set rwxXst, or a single\n",
      "       letter from the set ugo.  Multiple symbolic modes can be  given,  sepa‐\n",
      "       rated by commas.\n",
      "\n",
      "       A  combination  of the letters ugoa controls which users' access to the\n",
      "       file will be changed: the user who owns it  (u),  other  users  in  the\n",
      "       file's group (g), other users not in the file's group (o), or all users\n",
      "       (a).  If none of these are given, the effect is as if (a)  were  given,\n",
      "       but bits that are set in the umask are not affected.\n",
      "\n",
      "       The  operator  +  causes the selected file mode bits to be added to the\n",
      "       existing file mode bits of each file; - causes them to be removed;  and\n",
      "       =  causes  them  to  be added and causes unmentioned bits to be removed\n",
      "       except that a directory's unmentioned set user and group  ID  bits  are\n",
      "       not affected.\n",
      "\n",
      "       The  letters  rwxXst select file mode bits for the affected users: read\n",
      "       (r), write (w), execute (or search for directories) (x), execute/search\n",
      "       only  if  the file is a directory or already has execute permission for\n",
      "       some user (X), set user or group ID on execution (s), restricted  dele‐\n",
      "       tion  flag or sticky bit (t).  Instead of one or more of these letters,\n",
      "       you can specify exactly one of the letters ugo: the permissions granted\n",
      "       to  the  user  who  owns the file (u), the permissions granted to other\n",
      "       users who are members of the file's  group  (g),  and  the  permissions\n",
      "       granted  to  users  that are in neither of the two preceding categories\n",
      "       (o).\n",
      "\n",
      "       A numeric mode is from one to  four  octal  digits  (0-7),  derived  by\n",
      "       adding up the bits with values 4, 2, and 1.  Omitted digits are assumed\n",
      "       to be leading zeros.  The first digit selects the set user ID  (4)  and\n",
      "       set group ID (2) and restricted deletion or sticky (1) attributes.  The\n",
      "       second digit selects permissions for the user who owns the  file:  read\n",
      "       (4),  write  (2),  and  execute  (1); the third selects permissions for\n",
      "       other users in the file's group, with the same values; and  the  fourth\n",
      "       for other users not in the file's group, with the same values.\n",
      "\n",
      "       chmod never changes the permissions of symbolic links; the chmod system\n",
      "       call cannot change their permissions.  This is not a problem since  the\n",
      "       permissions  of  symbolic links are never used.  However, for each sym‐\n",
      "       bolic link listed on the command line, chmod changes the permissions of\n",
      "       the pointed-to file.  In contrast, chmod ignores symbolic links encoun‐\n",
      "       tered during recursive directory traversals.\n",
      "\n",
      "SETUID AND SETGID BITS\n",
      "       chmod clears the set-group-ID bit of a regular file if the file's group\n",
      "       ID  does  not  match the user's effective group ID or one of the user's\n",
      "       supplementary group IDs, unless the user  has  appropriate  privileges.\n",
      "       Additional restrictions may cause the set-user-ID and set-group-ID bits\n",
      "       of MODE or RFILE to be ignored.  This behavior depends  on  the  policy\n",
      "       and  functionality of the underlying chmod system call.  When in doubt,\n",
      "       check the underlying system behavior.\n",
      "\n",
      "       chmod preserves a directory's set-user-ID and set-group-ID bits  unless\n",
      "       you  explicitly  specify otherwise.  You can set or clear the bits with\n",
      "       symbolic modes like u+s and g-s, and you can set (but  not  clear)  the\n",
      "       bits with a numeric mode.\n",
      "\n",
      "RESTRICTED DELETION FLAG OR STICKY BIT\n",
      "       The  restricted  deletion  flag  or  sticky  bit is a single bit, whose\n",
      "       interpretation depends on the file type.  For directories, it  prevents\n",
      "       unprivileged  users  from  removing or renaming a file in the directory\n",
      "       unless they  own  the  file  or  the  directory;  this  is  called  the\n",
      "       restricted  deletion  flag  for the directory, and is commonly found on\n",
      "       world-writable directories like /tmp.  For regular files on some  older\n",
      "       systems,  the  bit saves the program's text image on the swap device so\n",
      "       it will load more quickly when run; this is called the sticky bit.\n",
      "\n",
      "OPTIONS\n",
      "       Change the mode of each FILE to MODE.   With  --reference,  change  the\n",
      "       mode of each FILE to that of RFILE.\n",
      "\n",
      "       -c, --changes\n",
      "              like verbose but report only when a change is made\n",
      "\n",
      "       -f, --silent, --quiet\n",
      "              suppress most error messages\n",
      "\n",
      "       -v, --verbose\n",
      "              output a diagnostic for every file processed\n",
      "\n",
      "       --no-preserve-root\n",
      "              do not treat '/' specially (the default)\n",
      "\n",
      "       --preserve-root\n",
      "              fail to operate recursively on '/'\n",
      "\n",
      "       --reference=RFILE\n",
      "              use RFILE's mode instead of MODE values\n",
      "\n",
      "       -R, --recursive\n",
      "              change files and directories recursively\n",
      "\n",
      "       --help display this help and exit\n",
      "\n",
      "       --version\n",
      "              output version information and exit\n",
      "\n",
      "       Each           MODE           is          of          the          form\n",
      "       '[ugoa]*([-+=]([rwxXst]*|[ugo]))+|[-+=][0-7]+'.\n",
      "\n",
      "AUTHOR\n",
      "       Written by David MacKenzie and Jim Meyering.\n",
      "\n",
      "REPORTING BUGS\n",
      "       GNU coreutils online help: <http://www.gnu.org/software/coreutils/>\n",
      "       Report chmod translation bugs to <http://translationproject.org/team/>\n",
      "\n",
      "COPYRIGHT\n",
      "       Copyright © 2017 Free Software Foundation, Inc.   License  GPLv3+:  GNU\n",
      "       GPL version 3 or later <http://gnu.org/licenses/gpl.html>.\n",
      "       This  is  free  software:  you  are free to change and redistribute it.\n",
      "       There is NO WARRANTY, to the extent permitted by law.\n",
      "\n",
      "SEE ALSO\n",
      "       chmod(2)\n",
      "\n",
      "       Full documentation at: <http://www.gnu.org/software/coreutils/chmod>\n",
      "       or available locally via: info '(coreutils) chmod invocation'\n",
      "\n",
      "GNU coreutils 8.28               January 2018                         CHMOD(1)\n"
     ]
    }
   ],
   "source": [
    "man chmod"
   ]
  },
  {
   "cell_type": "code",
   "execution_count": 53,
   "metadata": {},
   "outputs": [
    {
     "name": "stdout",
     "output_type": "stream",
     "text": [
      "Sat Apr  4 11:12:47 UTC 2020\n"
     ]
    }
   ],
   "source": [
    "date"
   ]
  }
 ],
 "metadata": {
  "kernelspec": {
   "display_name": "Bash",
   "language": "bash",
   "name": "bash"
  },
  "language_info": {
   "codemirror_mode": "shell",
   "file_extension": ".sh",
   "mimetype": "text/x-sh",
   "name": "bash"
  }
 },
 "nbformat": 4,
 "nbformat_minor": 4
}
