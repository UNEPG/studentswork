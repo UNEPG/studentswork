{
 "cells": [
  {
   "cell_type": "code",
   "execution_count": 1,
   "metadata": {},
   "outputs": [
    {
     "name": "stdout",
     "output_type": "stream",
     "text": [
      "/home/jupyter-inkar601\n"
     ]
    }
   ],
   "source": [
    "pwd "
   ]
  },
  {
   "cell_type": "code",
   "execution_count": 2,
   "metadata": {},
   "outputs": [
    {
     "name": "stdout",
     "output_type": "stream",
     "text": [
      "donut.txt  inkar.txt        Untitled2.ipynb  Untitled5.ipynb  Untitled8.ipynb\n",
      "homework1  shared           Untitled3.ipynb  Untitled6.ipynb  Untitled.ipynb\n",
      "inkar      Untitled1.ipynb  Untitled4.ipynb  Untitled7.ipynb\n"
     ]
    }
   ],
   "source": [
    "ls"
   ]
  },
  {
   "cell_type": "code",
   "execution_count": 3,
   "metadata": {},
   "outputs": [],
   "source": [
    "cd inkar"
   ]
  },
  {
   "cell_type": "code",
   "execution_count": 4,
   "metadata": {},
   "outputs": [],
   "source": [
    "touch myresume.txt"
   ]
  },
  {
   "cell_type": "code",
   "execution_count": 5,
   "metadata": {},
   "outputs": [],
   "source": [
    "cd"
   ]
  },
  {
   "cell_type": "code",
   "execution_count": 6,
   "metadata": {},
   "outputs": [],
   "source": [
    "cd inkar"
   ]
  },
  {
   "cell_type": "code",
   "execution_count": 7,
   "metadata": {},
   "outputs": [
    {
     "name": "stdout",
     "output_type": "stream",
     "text": [
      "myresume.txt\n"
     ]
    }
   ],
   "source": [
    "ls"
   ]
  },
  {
   "cell_type": "code",
   "execution_count": 8,
   "metadata": {},
   "outputs": [
    {
     "name": "stdout",
     "output_type": "stream",
     "text": [
      "myresume.txt: empty\n"
     ]
    }
   ],
   "source": [
    "file myresume.txt"
   ]
  },
  {
   "cell_type": "code",
   "execution_count": 9,
   "metadata": {},
   "outputs": [],
   "source": [
    "cd"
   ]
  },
  {
   "cell_type": "code",
   "execution_count": 10,
   "metadata": {},
   "outputs": [
    {
     "name": "stdout",
     "output_type": "stream",
     "text": [
      "donut.txt: ASCII text\n"
     ]
    }
   ],
   "source": [
    "file donut.txt"
   ]
  },
  {
   "cell_type": "code",
   "execution_count": 11,
   "metadata": {},
   "outputs": [
    {
     "name": "stdout",
     "output_type": "stream",
     "text": [
      "inkar.txt: ASCII text\n"
     ]
    }
   ],
   "source": [
    "file inkar.txt"
   ]
  },
  {
   "cell_type": "code",
   "execution_count": 12,
   "metadata": {},
   "outputs": [],
   "source": [
    "cd"
   ]
  },
  {
   "cell_type": "code",
   "execution_count": 13,
   "metadata": {},
   "outputs": [],
   "source": [
    "cd homework1"
   ]
  },
  {
   "cell_type": "code",
   "execution_count": 14,
   "metadata": {},
   "outputs": [
    {
     "name": "stdout",
     "output_type": "stream",
     "text": [
      "lscommand.txt\n"
     ]
    }
   ],
   "source": [
    "ls"
   ]
  },
  {
   "cell_type": "code",
   "execution_count": 16,
   "metadata": {},
   "outputs": [
    {
     "name": "stdout",
     "output_type": "stream",
     "text": [
      "lscommand.txt: ASCII text\n"
     ]
    }
   ],
   "source": [
    "file lscommand.txt"
   ]
  },
  {
   "cell_type": "code",
   "execution_count": 17,
   "metadata": {},
   "outputs": [
    {
     "name": "stdout",
     "output_type": "stream",
     "text": [
      "ls command main options:\n",
      "-a - list all files including hidden file starting with\n",
      "-d - list directories\n",
      "-F - addon char of\n",
      "-i - list files inode index number\n",
      "-l - list with long format\n",
      "-s - list faile size\n",
      "-t - sort by yime,date\n",
      "-r - list in reverse order\n"
     ]
    }
   ],
   "source": [
    "cat lscommand.txt"
   ]
  },
  {
   "cell_type": "code",
   "execution_count": 18,
   "metadata": {},
   "outputs": [
    {
     "name": "stdout",
     "output_type": "stream",
     "text": [
      "PWD(1)                           User Commands                          PWD(1)\n",
      "\n",
      "NAME\n",
      "       pwd - print name of current/working directory\n",
      "\n",
      "SYNOPSIS\n",
      "       pwd [OPTION]...\n",
      "\n",
      "DESCRIPTION\n",
      "       Print the full filename of the current working directory.\n",
      "\n",
      "       -L, --logical\n",
      "              use PWD from environment, even if it contains symlinks\n",
      "\n",
      "       -P, --physical\n",
      "              avoid all symlinks\n",
      "\n",
      "       --help display this help and exit\n",
      "\n",
      "       --version\n",
      "              output version information and exit\n",
      "\n",
      "       If no option is specified, -P is assumed.\n",
      "\n",
      "       NOTE:  your shell may have its own version of pwd, which usually super‐\n",
      "       sedes the version described here.  Please refer to your  shell's  docu‐\n",
      "       mentation for details about the options it supports.\n",
      "\n",
      "AUTHOR\n",
      "       Written by Jim Meyering.\n",
      "\n",
      "REPORTING BUGS\n",
      "       GNU coreutils online help: <http://www.gnu.org/software/coreutils/>\n",
      "       Report pwd translation bugs to <http://translationproject.org/team/>\n",
      "\n",
      "COPYRIGHT\n",
      "       Copyright  ©  2017  Free Software Foundation, Inc.  License GPLv3+: GNU\n",
      "       GPL version 3 or later <http://gnu.org/licenses/gpl.html>.\n",
      "       This is free software: you are free  to  change  and  redistribute  it.\n",
      "       There is NO WARRANTY, to the extent permitted by law.\n",
      "\n",
      "SEE ALSO\n",
      "       getcwd(3)\n",
      "\n",
      "       Full documentation at: <http://www.gnu.org/software/coreutils/pwd>\n",
      "       or available locally via: info '(coreutils) pwd invocation'\n",
      "\n",
      "GNU coreutils 8.28               January 2018                           PWD(1)\n"
     ]
    }
   ],
   "source": [
    "man pwd"
   ]
  },
  {
   "cell_type": "code",
   "execution_count": 1,
   "metadata": {},
   "outputs": [
    {
     "name": "stdout",
     "output_type": "stream",
     "text": [
      "total 64\n",
      "-rw-r--r-- 1 jupyter-inkar601 jupyter-inkar601   13 Mar 28 02:00 donut.txt\n",
      "drwxr-xr-x 3 jupyter-inkar601 jupyter-inkar601 4096 Mar 28 03:11 homework1\n",
      "drwxr-xr-x 3 jupyter-inkar601 jupyter-inkar601 4096 Mar 28 03:17 inkar\n",
      "-rw-r--r-- 1 jupyter-inkar601 jupyter-inkar601 6307 Mar 28 12:13 Inkar.ipynb\n",
      "-rw-r--r-- 1 jupyter-inkar601 jupyter-inkar601   12 Mar 28 00:55 inkar.txt\n",
      "lrwxrwxrwx 1 jupyter-inkar601 jupyter-inkar601   16 Mar 10 11:57 shared -> /srv/data/shared\n",
      "-rw-r--r-- 1 jupyter-inkar601 jupyter-inkar601  654 Mar 28 00:48 Untitled1.ipynb\n",
      "-rw-r--r-- 1 jupyter-inkar601 jupyter-inkar601  428 Mar 28 01:18 Untitled3.ipynb\n",
      "-rw-r--r-- 1 jupyter-inkar601 jupyter-inkar601  568 Mar 28 02:06 Untitled4.ipynb\n",
      "-rw-r--r-- 1 jupyter-inkar601 jupyter-inkar601 4198 Mar 28 02:28 Untitled5.ipynb\n",
      "-rw-r--r-- 1 jupyter-inkar601 jupyter-inkar601 2488 Mar 28 01:44 Untitled6.ipynb\n",
      "-rw-r--r-- 1 jupyter-inkar601 jupyter-inkar601  556 Mar 28 02:30 Untitled7.ipynb\n",
      "-rw-r--r-- 1 jupyter-inkar601 jupyter-inkar601  902 Mar 28 03:11 Untitled8.ipynb\n",
      "-rw-r--r-- 1 jupyter-inkar601 jupyter-inkar601 3490 Mar 28 03:31 Untitled9.ipynb\n",
      "-rw-r--r-- 1 jupyter-inkar601 jupyter-inkar601  555 Mar 28 12:11 Untitled.ipynb\n"
     ]
    }
   ],
   "source": [
    "ls -l"
   ]
  },
  {
   "cell_type": "code",
   "execution_count": 2,
   "metadata": {},
   "outputs": [
    {
     "name": "stdout",
     "output_type": "stream",
     "text": [
      "total 64\n",
      "4 donut.txt    4 inkar.txt        4 Untitled4.ipynb  4 Untitled8.ipynb\n",
      "4 homework1    0 shared           8 Untitled5.ipynb  4 Untitled9.ipynb\n",
      "4 inkar        4 Untitled1.ipynb  4 Untitled6.ipynb  4 Untitled.ipynb\n",
      "8 Inkar.ipynb  4 Untitled3.ipynb  4 Untitled7.ipynb\n"
     ]
    }
   ],
   "source": [
    "ls -s"
   ]
  },
  {
   "cell_type": "code",
   "execution_count": null,
   "metadata": {},
   "outputs": [],
   "source": []
  }
 ],
 "metadata": {
  "kernelspec": {
   "display_name": "Bash",
   "language": "bash",
   "name": "bash"
  },
  "language_info": {
   "codemirror_mode": "shell",
   "file_extension": ".sh",
   "mimetype": "text/x-sh",
   "name": "bash"
  }
 },
 "nbformat": 4,
 "nbformat_minor": 4
}
