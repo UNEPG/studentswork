{
 "cells": [
  {
   "cell_type": "code",
   "execution_count": 1,
   "metadata": {},
   "outputs": [
    {
     "name": "stdout",
     "output_type": "stream",
     "text": [
      "/home/jupyter-inkar601\n"
     ]
    }
   ],
   "source": [
    "pwd"
   ]
  },
  {
   "cell_type": "code",
   "execution_count": 2,
   "metadata": {},
   "outputs": [
    {
     "name": "stdout",
     "output_type": "stream",
     "text": [
      "222.ipynb  homework1    octave-workspace  Untitled3.ipynb  Untitled8.ipynb\n",
      "444.ipynb  homework3    shared            Untitled4.ipynb  Untitled9.ipynb\n",
      "bear       inkar        Untitled10.ipynb  Untitled5.ipynb  Untitled.ipynb\n",
      "Donut      Inkar.ipynb  Untitled1.ipynb   Untitled6.ipynb\n",
      "donut.txt  inkar.txt    Untitled2.ipynb   Untitled7.ipynb\n"
     ]
    }
   ],
   "source": [
    "ls"
   ]
  },
  {
   "cell_type": "code",
   "execution_count": 3,
   "metadata": {},
   "outputs": [
    {
     "name": "stdout",
     "output_type": "stream",
     "text": [
      "total 204\n",
      "-rw-r--r-- 1 jupyter-inkar601 jupyter-inkar601 48435 Mar 28 13:24 222.ipynb\n",
      "-rw-r--r-- 1 jupyter-inkar601 jupyter-inkar601  4846 Apr  4 12:15 444.ipynb\n",
      "-rw-r--r-- 1 jupyter-inkar601 jupyter-inkar601     0 Apr  4 12:09 bear\n",
      "drwxr-xr-x 2 jupyter-inkar601 jupyter-inkar601  4096 Mar 28 13:06 Donut\n",
      "-rw-r--r-- 1 jupyter-inkar601 jupyter-inkar601    13 Mar 28 02:00 donut.txt\n",
      "drwxr-xr-x 3 jupyter-inkar601 jupyter-inkar601  4096 Apr  4 10:46 homework1\n",
      "drwxr-xr-x 7 jupyter-inkar601 jupyter-inkar601  4096 Apr  4 11:14 homework3\n",
      "drwxr-xr-x 3 jupyter-inkar601 jupyter-inkar601  4096 Mar 28 03:17 inkar\n",
      "-rw-r--r-- 1 jupyter-inkar601 jupyter-inkar601  8561 Mar 28 12:15 Inkar.ipynb\n",
      "-rw-r--r-- 1 jupyter-inkar601 jupyter-inkar601    12 Mar 28 00:55 inkar.txt\n",
      "-rw-r--r-- 1 jupyter-inkar601 jupyter-inkar601    54 Mar 28 14:09 octave-workspace\n",
      "lrwxrwxrwx 1 jupyter-inkar601 jupyter-inkar601    16 Mar 10 11:57 shared -> /srv/data/shared\n",
      "-rw-r--r-- 1 jupyter-inkar601 jupyter-inkar601   659 Apr  9 15:05 Untitled10.ipynb\n",
      "-rw-r--r-- 1 jupyter-inkar601 jupyter-inkar601   654 Mar 28 00:48 Untitled1.ipynb\n",
      "-rw-r--r-- 1 jupyter-inkar601 jupyter-inkar601 62290 Mar 28 12:26 Untitled2.ipynb\n",
      "-rw-r--r-- 1 jupyter-inkar601 jupyter-inkar601   428 Mar 28 01:18 Untitled3.ipynb\n",
      "-rw-r--r-- 1 jupyter-inkar601 jupyter-inkar601   568 Mar 28 02:06 Untitled4.ipynb\n",
      "-rw-r--r-- 1 jupyter-inkar601 jupyter-inkar601  4198 Mar 28 02:28 Untitled5.ipynb\n",
      "-rw-r--r-- 1 jupyter-inkar601 jupyter-inkar601  2488 Mar 28 01:44 Untitled6.ipynb\n",
      "-rw-r--r-- 1 jupyter-inkar601 jupyter-inkar601   556 Mar 28 02:30 Untitled7.ipynb\n",
      "-rw-r--r-- 1 jupyter-inkar601 jupyter-inkar601   902 Mar 28 03:11 Untitled8.ipynb\n",
      "-rw-r--r-- 1 jupyter-inkar601 jupyter-inkar601   563 Apr  8 02:38 Untitled9.ipynb\n",
      "-rw-r--r-- 1 jupyter-inkar601 jupyter-inkar601   555 Mar 28 12:11 Untitled.ipynb\n"
     ]
    }
   ],
   "source": [
    "ls -l"
   ]
  },
  {
   "cell_type": "code",
   "execution_count": 4,
   "metadata": {},
   "outputs": [],
   "source": [
    "touch pulsar"
   ]
  },
  {
   "cell_type": "code",
   "execution_count": 5,
   "metadata": {},
   "outputs": [
    {
     "name": "stdout",
     "output_type": "stream",
     "text": [
      "pulsar\n"
     ]
    }
   ],
   "source": [
    "ls pulsar"
   ]
  },
  {
   "cell_type": "code",
   "execution_count": 6,
   "metadata": {},
   "outputs": [
    {
     "name": "stdout",
     "output_type": "stream",
     "text": [
      "-rw-r--r-- 1 jupyter-inkar601 jupyter-inkar601 0 Apr  9 15:14 pulsar\n"
     ]
    }
   ],
   "source": [
    "ls -l pulsar"
   ]
  },
  {
   "cell_type": "code",
   "execution_count": 8,
   "metadata": {},
   "outputs": [],
   "source": [
    "chmod 460 pulsar"
   ]
  },
  {
   "cell_type": "code",
   "execution_count": 9,
   "metadata": {},
   "outputs": [
    {
     "name": "stdout",
     "output_type": "stream",
     "text": [
      "-r--rw---- 1 jupyter-inkar601 jupyter-inkar601 0 Apr  9 15:14 pulsar\n"
     ]
    }
   ],
   "source": [
    "ls -l pulsar"
   ]
  },
  {
   "cell_type": "code",
   "execution_count": 11,
   "metadata": {},
   "outputs": [],
   "source": [
    "chmod 570 pulsar"
   ]
  },
  {
   "cell_type": "code",
   "execution_count": 12,
   "metadata": {},
   "outputs": [
    {
     "name": "stdout",
     "output_type": "stream",
     "text": [
      "-r-xrwx--- 1 jupyter-inkar601 jupyter-inkar601 0 Apr  9 15:14 pulsar\n"
     ]
    }
   ],
   "source": [
    "ls -l pulsar"
   ]
  },
  {
   "cell_type": "code",
   "execution_count": 13,
   "metadata": {},
   "outputs": [],
   "source": [
    "cd"
   ]
  },
  {
   "cell_type": "code",
   "execution_count": 14,
   "metadata": {},
   "outputs": [],
   "source": [
    "cd"
   ]
  },
  {
   "cell_type": "code",
   "execution_count": 15,
   "metadata": {},
   "outputs": [
    {
     "name": "stdout",
     "output_type": "stream",
     "text": [
      "/home/jupyter-inkar601\n"
     ]
    }
   ],
   "source": [
    "pwd"
   ]
  },
  {
   "cell_type": "code",
   "execution_count": 17,
   "metadata": {},
   "outputs": [],
   "source": [
    "cd /home"
   ]
  },
  {
   "cell_type": "code",
   "execution_count": 18,
   "metadata": {},
   "outputs": [
    {
     "name": "stdout",
     "output_type": "stream",
     "text": [
      "azat                   jupyter-cubefiction    jupyter-official-nanakai\n",
      "jupyter-admin          jupyter-danenok        jupyter-orissim\n",
      "jupyter-aiana178       jupyter-darganius      jupyter-tsagynysh\n",
      "jupyter-aigerimunisat  jupyter-ekdana         jupyter-unisat\n",
      "jupyter-aizadait       jupyter-inkar601       jupyter-unisatkz\n",
      "jupyter-amayakof       jupyter-kkenzh         jupyter-yeldana\n",
      "jupyter-amirkhan       jupyter-nazymungarova  jupyter-zhandos\n",
      "jupyter-arayka         jupyter-nuray.serkali  jupyter-zhanelbaltabay\n",
      "jupyter-aruzhan149     jupyter-nurike         jupyter-zhannaspace\n",
      "jupyter-aselleon       jupyter-nurlaura\n",
      "jupyter-azat           jupyter-nurlaura2\n"
     ]
    }
   ],
   "source": [
    "ls"
   ]
  },
  {
   "cell_type": "code",
   "execution_count": 19,
   "metadata": {},
   "outputs": [
    {
     "name": "stdout",
     "output_type": "stream",
     "text": [
      "jupyter-inkar601\n"
     ]
    }
   ],
   "source": [
    "whoami"
   ]
  },
  {
   "cell_type": "code",
   "execution_count": 24,
   "metadata": {},
   "outputs": [],
   "source": [
    "cd"
   ]
  },
  {
   "cell_type": "code",
   "execution_count": 25,
   "metadata": {},
   "outputs": [
    {
     "name": "stdout",
     "output_type": "stream",
     "text": [
      "/home/jupyter-inkar601\n"
     ]
    }
   ],
   "source": [
    "pwd"
   ]
  },
  {
   "cell_type": "code",
   "execution_count": 26,
   "metadata": {},
   "outputs": [
    {
     "name": "stdout",
     "output_type": "stream",
     "text": [
      "222.ipynb  homework3         pulsar            Untitled3.ipynb  Untitled9.ipynb\n",
      "444.ipynb  hw4.ipynb         pulsar.txt        Untitled4.ipynb  Untitled.ipynb\n",
      "bear       inkar             shared            Untitled5.ipynb\n",
      "Donut      Inkar.ipynb       Untitled10.ipynb  Untitled6.ipynb\n",
      "donut.txt  inkar.txt         Untitled1.ipynb   Untitled7.ipynb\n",
      "homework1  octave-workspace  Untitled2.ipynb   Untitled8.ipynb\n"
     ]
    }
   ],
   "source": [
    "ls"
   ]
  },
  {
   "cell_type": "code",
   "execution_count": 27,
   "metadata": {},
   "outputs": [
    {
     "name": "stdout",
     "output_type": "stream",
     "text": [
      "pulsar.txt\n"
     ]
    }
   ],
   "source": [
    "ls pulsar.txt"
   ]
  },
  {
   "cell_type": "code",
   "execution_count": 30,
   "metadata": {},
   "outputs": [
    {
     "name": "stdout",
     "output_type": "stream",
     "text": [
      "types of pulsar\n",
      "1.millisecond pulsars\n",
      "2.x-ray pulsars\n",
      "3.radio pulsar\n",
      "4.optical pulsars\n",
      "5.gamma-ray pulsars\n",
      "6.magnetars\n"
     ]
    }
   ],
   "source": [
    "head pulsar.txt"
   ]
  },
  {
   "cell_type": "code",
   "execution_count": 31,
   "metadata": {},
   "outputs": [],
   "source": [
    "chmod 460 pulsar.txt"
   ]
  },
  {
   "cell_type": "code",
   "execution_count": 33,
   "metadata": {},
   "outputs": [
    {
     "name": "stdout",
     "output_type": "stream",
     "text": [
      "-r--rw---- 1 jupyter-inkar601 jupyter-inkar601 119 Apr  9 15:41 pulsar.txt\n"
     ]
    }
   ],
   "source": [
    "ls -l pulsar.txt"
   ]
  },
  {
   "cell_type": "code",
   "execution_count": 34,
   "metadata": {},
   "outputs": [
    {
     "name": "stdout",
     "output_type": "stream",
     "text": [
      "types of pulsar\n",
      "1.millisecond pulsars\n",
      "2.x-ray pulsars\n"
     ]
    }
   ],
   "source": [
    "head -3 pulsar.txt"
   ]
  },
  {
   "cell_type": "code",
   "execution_count": 35,
   "metadata": {},
   "outputs": [
    {
     "name": "stdout",
     "output_type": "stream",
     "text": [
      "types of pulsar\n",
      "1.millisecond pulsars\n",
      "2.x-ray pulsars\n",
      "3.radio pulsar\n",
      "4.optical pulsars\n"
     ]
    }
   ],
   "source": [
    "head -5 pulsar.txt"
   ]
  },
  {
   "cell_type": "code",
   "execution_count": 37,
   "metadata": {},
   "outputs": [
    {
     "name": "stdout",
     "output_type": "stream",
     "text": [
      "types of pulsar\n",
      "1.millisecond pulsars\n",
      "2.x-ray pulsars\n",
      "3.radio pulsar\n",
      "4.optical pulsars\n",
      "5.gamma-ray pulsars\n",
      "6.magnetars\n"
     ]
    }
   ],
   "source": [
    "tail pulsar.txt"
   ]
  },
  {
   "cell_type": "code",
   "execution_count": 38,
   "metadata": {},
   "outputs": [
    {
     "name": "stdout",
     "output_type": "stream",
     "text": [
      "types of pulsar\n",
      "1.millisecond pulsars\n",
      "2.x-ray pulsars\n",
      "3.radio pulsar\n",
      "4.optical pulsars\n",
      "5.gamma-ray pulsars\n",
      "6.magnetars\n"
     ]
    }
   ],
   "source": [
    "cat pulsar.txt"
   ]
  },
  {
   "cell_type": "code",
   "execution_count": 39,
   "metadata": {},
   "outputs": [
    {
     "name": "stdout",
     "output_type": "stream",
     "text": [
      "6.magnetars\n",
      "5.gamma-ray pulsars\n",
      "4.optical pulsars\n",
      "3.radio pulsar\n",
      "2.x-ray pulsars\n",
      "1.millisecond pulsars\n",
      "types of pulsar\n"
     ]
    }
   ],
   "source": [
    "tac pulsar.txt"
   ]
  },
  {
   "cell_type": "code",
   "execution_count": 40,
   "metadata": {},
   "outputs": [
    {
     "name": "stdout",
     "output_type": "stream",
     "text": [
      "     1\ttypes of pulsar\n",
      "     2\t1.millisecond pulsars\n",
      "     3\t2.x-ray pulsars\n",
      "     4\t3.radio pulsar\n",
      "     5\t4.optical pulsars\n",
      "     6\t5.gamma-ray pulsars\n",
      "     7\t6.magnetars\n"
     ]
    }
   ],
   "source": [
    "nl pulsar.txt"
   ]
  },
  {
   "cell_type": "code",
   "execution_count": 41,
   "metadata": {},
   "outputs": [
    {
     "name": "stdout",
     "output_type": "stream",
     "text": [
      "NL(1)                            User Commands                           NL(1)\n",
      "\n",
      "NAME\n",
      "       nl - number lines of files\n",
      "\n",
      "SYNOPSIS\n",
      "       nl [OPTION]... [FILE]...\n",
      "\n",
      "DESCRIPTION\n",
      "       Write each FILE to standard output, with line numbers added.\n",
      "\n",
      "       With no FILE, or when FILE is -, read standard input.\n",
      "\n",
      "       Mandatory  arguments  to  long  options are mandatory for short options\n",
      "       too.\n",
      "\n",
      "       -b, --body-numbering=STYLE\n",
      "              use STYLE for numbering body lines\n",
      "\n",
      "       -d, --section-delimiter=CC\n",
      "              use CC for logical page delimiters\n",
      "\n",
      "       -f, --footer-numbering=STYLE\n",
      "              use STYLE for numbering footer lines\n",
      "\n",
      "       -h, --header-numbering=STYLE\n",
      "              use STYLE for numbering header lines\n",
      "\n",
      "       -i, --line-increment=NUMBER\n",
      "              line number increment at each line\n",
      "\n",
      "       -l, --join-blank-lines=NUMBER\n",
      "              group of NUMBER empty lines counted as one\n",
      "\n",
      "       -n, --number-format=FORMAT\n",
      "              insert line numbers according to FORMAT\n",
      "\n",
      "       -p, --no-renumber\n",
      "              do not reset line numbers for each section\n",
      "\n",
      "       -s, --number-separator=STRING\n",
      "              add STRING after (possible) line number\n",
      "\n",
      "       -v, --starting-line-number=NUMBER\n",
      "              first line number for each section\n",
      "\n",
      "       -w, --number-width=NUMBER\n",
      "              use NUMBER columns for line numbers\n",
      "\n",
      "       --help display this help and exit\n",
      "\n",
      "       --version\n",
      "              output version information and exit\n",
      "\n",
      "       By default, selects -v1 -i1 -l1 -sTAB -w6 -nrn -hn -bt -fn.  CC are two\n",
      "       delimiter characters used to construct logical page delimiters, a miss‐\n",
      "       ing second character implies :.  Type \\\\ for \\.  STYLE is one of:\n",
      "\n",
      "       a      number all lines\n",
      "\n",
      "       t      number only nonempty lines\n",
      "\n",
      "       n      number no lines\n",
      "\n",
      "       pBRE   number only lines that contain a match  for  the  basic  regular\n",
      "              expression, BRE\n",
      "\n",
      "       FORMAT is one of:\n",
      "\n",
      "       ln     left justified, no leading zeros\n",
      "\n",
      "       rn     right justified, no leading zeros\n",
      "\n",
      "       rz     right justified, leading zeros\n",
      "\n",
      "AUTHOR\n",
      "       Written by Scott Bartram and David MacKenzie.\n",
      "\n",
      "REPORTING BUGS\n",
      "       GNU coreutils online help: <http://www.gnu.org/software/coreutils/>\n",
      "       Report nl translation bugs to <http://translationproject.org/team/>\n",
      "\n",
      "COPYRIGHT\n",
      "       Copyright  ©  2017  Free Software Foundation, Inc.  License GPLv3+: GNU\n",
      "       GPL version 3 or later <http://gnu.org/licenses/gpl.html>.\n",
      "       This is free software: you are free  to  change  and  redistribute  it.\n",
      "       There is NO WARRANTY, to the extent permitted by law.\n",
      "\n",
      "SEE ALSO\n",
      "       Full documentation at: <http://www.gnu.org/software/coreutils/nl>\n",
      "       or available locally via: info '(coreutils) nl invocation'\n",
      "\n",
      "GNU coreutils 8.28               January 2018                            NL(1)\n"
     ]
    }
   ],
   "source": [
    "man nl"
   ]
  },
  {
   "cell_type": "code",
   "execution_count": 42,
   "metadata": {},
   "outputs": [
    {
     "name": "stdout",
     "output_type": "stream",
     "text": [
      "CAT(1)                           User Commands                          CAT(1)\n",
      "\n",
      "NAME\n",
      "       cat - concatenate files and print on the standard output\n",
      "\n",
      "SYNOPSIS\n",
      "       cat [OPTION]... [FILE]...\n",
      "\n",
      "DESCRIPTION\n",
      "       Concatenate FILE(s) to standard output.\n",
      "\n",
      "       With no FILE, or when FILE is -, read standard input.\n",
      "\n",
      "       -A, --show-all\n",
      "              equivalent to -vET\n",
      "\n",
      "       -b, --number-nonblank\n",
      "              number nonempty output lines, overrides -n\n",
      "\n",
      "       -e     equivalent to -vE\n",
      "\n",
      "       -E, --show-ends\n",
      "              display $ at end of each line\n",
      "\n",
      "       -n, --number\n",
      "              number all output lines\n",
      "\n",
      "       -s, --squeeze-blank\n",
      "              suppress repeated empty output lines\n",
      "\n",
      "       -t     equivalent to -vT\n",
      "\n",
      "       -T, --show-tabs\n",
      "              display TAB characters as ^I\n",
      "\n",
      "       -u     (ignored)\n",
      "\n",
      "       -v, --show-nonprinting\n",
      "              use ^ and M- notation, except for LFD and TAB\n",
      "\n",
      "       --help display this help and exit\n",
      "\n",
      "       --version\n",
      "              output version information and exit\n",
      "\n",
      "EXAMPLES\n",
      "       cat f - g\n",
      "              Output f's contents, then standard input, then g's contents.\n",
      "\n",
      "       cat    Copy standard input to standard output.\n",
      "\n",
      "AUTHOR\n",
      "       Written by Torbjorn Granlund and Richard M. Stallman.\n",
      "\n",
      "REPORTING BUGS\n",
      "       GNU coreutils online help: <http://www.gnu.org/software/coreutils/>\n",
      "       Report cat translation bugs to <http://translationproject.org/team/>\n",
      "\n",
      "COPYRIGHT\n",
      "       Copyright  ©  2017  Free Software Foundation, Inc.  License GPLv3+: GNU\n",
      "       GPL version 3 or later <http://gnu.org/licenses/gpl.html>.\n",
      "       This is free software: you are free  to  change  and  redistribute  it.\n",
      "       There is NO WARRANTY, to the extent permitted by law.\n",
      "\n",
      "SEE ALSO\n",
      "       tac(1)\n",
      "\n",
      "       Full documentation at: <http://www.gnu.org/software/coreutils/cat>\n",
      "       or available locally via: info '(coreutils) cat invocation'\n",
      "\n",
      "GNU coreutils 8.28               January 2018                           CAT(1)\n"
     ]
    }
   ],
   "source": [
    "man cat"
   ]
  },
  {
   "cell_type": "code",
   "execution_count": 43,
   "metadata": {},
   "outputs": [
    {
     "name": "stdout",
     "output_type": "stream",
     "text": [
      "TAC(1)                           User Commands                          TAC(1)\n",
      "\n",
      "NAME\n",
      "       tac - concatenate and print files in reverse\n",
      "\n",
      "SYNOPSIS\n",
      "       tac [OPTION]... [FILE]...\n",
      "\n",
      "DESCRIPTION\n",
      "       Write each FILE to standard output, last line first.\n",
      "\n",
      "       With no FILE, or when FILE is -, read standard input.\n",
      "\n",
      "       Mandatory  arguments  to  long  options are mandatory for short options\n",
      "       too.\n",
      "\n",
      "       -b, --before\n",
      "              attach the separator before instead of after\n",
      "\n",
      "       -r, --regex\n",
      "              interpret the separator as a regular expression\n",
      "\n",
      "       -s, --separator=STRING\n",
      "              use STRING as the separator instead of newline\n",
      "\n",
      "       --help display this help and exit\n",
      "\n",
      "       --version\n",
      "              output version information and exit\n",
      "\n",
      "AUTHOR\n",
      "       Written by Jay Lepreau and David MacKenzie.\n",
      "\n",
      "REPORTING BUGS\n",
      "       GNU coreutils online help: <http://www.gnu.org/software/coreutils/>\n",
      "       Report tac translation bugs to <http://translationproject.org/team/>\n",
      "\n",
      "COPYRIGHT\n",
      "       Copyright © 2017 Free Software Foundation, Inc.   License  GPLv3+:  GNU\n",
      "       GPL version 3 or later <http://gnu.org/licenses/gpl.html>.\n",
      "       This  is  free  software:  you  are free to change and redistribute it.\n",
      "       There is NO WARRANTY, to the extent permitted by law.\n",
      "\n",
      "SEE ALSO\n",
      "       rev(1)\n",
      "\n",
      "       Full documentation at: <http://www.gnu.org/software/coreutils/tac>\n",
      "       or available locally via: info '(coreutils) tac invocation'\n",
      "\n",
      "GNU coreutils 8.28               January 2018                           TAC(1)\n"
     ]
    }
   ],
   "source": [
    "man tac"
   ]
  },
  {
   "cell_type": "code",
   "execution_count": null,
   "metadata": {},
   "outputs": [],
   "source": []
  }
 ],
 "metadata": {
  "kernelspec": {
   "display_name": "Bash",
   "language": "bash",
   "name": "bash"
  },
  "language_info": {
   "codemirror_mode": "shell",
   "file_extension": ".sh",
   "mimetype": "text/x-sh",
   "name": "bash"
  }
 },
 "nbformat": 4,
 "nbformat_minor": 4
}
