{
 "cells": [
  {
   "cell_type": "code",
   "execution_count": 1,
   "metadata": {},
   "outputs": [],
   "source": [
    "echo 'Nil   6650\n",
    "Amazon   6515\n",
    "Yangtze   6300\n",
    "Mississippi   6275\n",
    "Yenisei   5539\n",
    "Yellow River   5464\n",
    "Ob-Irtysh   5410\n",
    "Rio de la Plata   4880\n",
    "Congo   4700\n",
    "Amur   4444\n",
    "Lena   4400\n",
    "Mekong   4350\n",
    "Mackenzie   4241\n",
    "Niger   4200\n",
    "Brahmaputra   3848\n",
    "Murray   3672\n",
    "Volga   3645\n",
    "Madeira   3380\n",
    "Purus   3211\n",
    "Yukon   3185\n",
    "Sao Francisco   3180\n",
    "Syr Darya   3078\n",
    "Salween   3060'>>river.txt"
   ]
  },
  {
   "cell_type": "code",
   "execution_count": null,
   "metadata": {},
   "outputs": [],
   "source": []
  }
 ],
 "metadata": {
  "kernelspec": {
   "display_name": "Bash",
   "language": "bash",
   "name": "bash"
  },
  "language_info": {
   "codemirror_mode": "shell",
   "file_extension": ".sh",
   "mimetype": "text/x-sh",
   "name": "bash"
  }
 },
 "nbformat": 4,
 "nbformat_minor": 4
}
